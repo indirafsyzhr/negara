{
  "nbformat": 4,
  "nbformat_minor": 0,
  "metadata": {
    "colab": {
      "name": "FinalProject.ipynb",
      "provenance": []
    },
    "kernelspec": {
      "name": "python3",
      "display_name": "Python 3"
    },
    "language_info": {
      "name": "python"
    }
  },
  "cells": [
    {
      "cell_type": "code",
      "metadata": {
        "id": "602BjV_Tz5xi"
      },
      "source": [
        "import pandas as pd \n",
        "import matplotlib.pyplot as plt\n",
        "import numpy as np\n",
        "import seaborn as sns"
      ],
      "execution_count": 27,
      "outputs": []
    },
    {
      "cell_type": "code",
      "metadata": {
        "colab": {
          "base_uri": "https://localhost:8080/"
        },
        "id": "-w4cO4noz9e-",
        "outputId": "fdded3bf-d67a-4c50-9d19-cc90d6ead06a"
      },
      "source": [
        "!git clone https://github.com/indirafsyzhr/negara.git"
      ],
      "execution_count": 28,
      "outputs": [
        {
          "output_type": "stream",
          "text": [
            "fatal: destination path 'negara' already exists and is not an empty directory.\n"
          ],
          "name": "stdout"
        }
      ]
    },
    {
      "cell_type": "code",
      "metadata": {
        "colab": {
          "base_uri": "https://localhost:8080/",
          "height": 340
        },
        "id": "UldXoAGG0DzR",
        "outputId": "af4cd354-5e33-4212-c78e-ea4993db05b2"
      },
      "source": [
        "df = pd.read_csv('negara/Data_Negara_HELP.csv')\n",
        "df.head(10)"
      ],
      "execution_count": 29,
      "outputs": [
        {
          "output_type": "execute_result",
          "data": {
            "text/html": [
              "<div>\n",
              "<style scoped>\n",
              "    .dataframe tbody tr th:only-of-type {\n",
              "        vertical-align: middle;\n",
              "    }\n",
              "\n",
              "    .dataframe tbody tr th {\n",
              "        vertical-align: top;\n",
              "    }\n",
              "\n",
              "    .dataframe thead th {\n",
              "        text-align: right;\n",
              "    }\n",
              "</style>\n",
              "<table border=\"1\" class=\"dataframe\">\n",
              "  <thead>\n",
              "    <tr style=\"text-align: right;\">\n",
              "      <th></th>\n",
              "      <th>Negara</th>\n",
              "      <th>Kematian_anak</th>\n",
              "      <th>Ekspor</th>\n",
              "      <th>Kesehatan</th>\n",
              "      <th>Impor</th>\n",
              "      <th>Pendapatan</th>\n",
              "      <th>Inflasi</th>\n",
              "      <th>Harapan_hidup</th>\n",
              "      <th>Jumlah_fertiliti</th>\n",
              "      <th>GDPperkapita</th>\n",
              "    </tr>\n",
              "  </thead>\n",
              "  <tbody>\n",
              "    <tr>\n",
              "      <th>0</th>\n",
              "      <td>Afghanistan</td>\n",
              "      <td>90.2</td>\n",
              "      <td>10.0</td>\n",
              "      <td>7.58</td>\n",
              "      <td>44.9</td>\n",
              "      <td>1610</td>\n",
              "      <td>9.440</td>\n",
              "      <td>56.2</td>\n",
              "      <td>5.82</td>\n",
              "      <td>553</td>\n",
              "    </tr>\n",
              "    <tr>\n",
              "      <th>1</th>\n",
              "      <td>Albania</td>\n",
              "      <td>16.6</td>\n",
              "      <td>28.0</td>\n",
              "      <td>6.55</td>\n",
              "      <td>48.6</td>\n",
              "      <td>9930</td>\n",
              "      <td>4.490</td>\n",
              "      <td>76.3</td>\n",
              "      <td>1.65</td>\n",
              "      <td>4090</td>\n",
              "    </tr>\n",
              "    <tr>\n",
              "      <th>2</th>\n",
              "      <td>Algeria</td>\n",
              "      <td>27.3</td>\n",
              "      <td>38.4</td>\n",
              "      <td>4.17</td>\n",
              "      <td>31.4</td>\n",
              "      <td>12900</td>\n",
              "      <td>16.100</td>\n",
              "      <td>76.5</td>\n",
              "      <td>2.89</td>\n",
              "      <td>4460</td>\n",
              "    </tr>\n",
              "    <tr>\n",
              "      <th>3</th>\n",
              "      <td>Angola</td>\n",
              "      <td>119.0</td>\n",
              "      <td>62.3</td>\n",
              "      <td>2.85</td>\n",
              "      <td>42.9</td>\n",
              "      <td>5900</td>\n",
              "      <td>22.400</td>\n",
              "      <td>60.1</td>\n",
              "      <td>6.16</td>\n",
              "      <td>3530</td>\n",
              "    </tr>\n",
              "    <tr>\n",
              "      <th>4</th>\n",
              "      <td>Antigua and Barbuda</td>\n",
              "      <td>10.3</td>\n",
              "      <td>45.5</td>\n",
              "      <td>6.03</td>\n",
              "      <td>58.9</td>\n",
              "      <td>19100</td>\n",
              "      <td>1.440</td>\n",
              "      <td>76.8</td>\n",
              "      <td>2.13</td>\n",
              "      <td>12200</td>\n",
              "    </tr>\n",
              "    <tr>\n",
              "      <th>5</th>\n",
              "      <td>Argentina</td>\n",
              "      <td>14.5</td>\n",
              "      <td>18.9</td>\n",
              "      <td>8.10</td>\n",
              "      <td>16.0</td>\n",
              "      <td>18700</td>\n",
              "      <td>20.900</td>\n",
              "      <td>75.8</td>\n",
              "      <td>2.37</td>\n",
              "      <td>10300</td>\n",
              "    </tr>\n",
              "    <tr>\n",
              "      <th>6</th>\n",
              "      <td>Armenia</td>\n",
              "      <td>18.1</td>\n",
              "      <td>20.8</td>\n",
              "      <td>4.40</td>\n",
              "      <td>45.3</td>\n",
              "      <td>6700</td>\n",
              "      <td>7.770</td>\n",
              "      <td>73.3</td>\n",
              "      <td>1.69</td>\n",
              "      <td>3220</td>\n",
              "    </tr>\n",
              "    <tr>\n",
              "      <th>7</th>\n",
              "      <td>Australia</td>\n",
              "      <td>4.8</td>\n",
              "      <td>19.8</td>\n",
              "      <td>8.73</td>\n",
              "      <td>20.9</td>\n",
              "      <td>41400</td>\n",
              "      <td>1.160</td>\n",
              "      <td>82.0</td>\n",
              "      <td>1.93</td>\n",
              "      <td>51900</td>\n",
              "    </tr>\n",
              "    <tr>\n",
              "      <th>8</th>\n",
              "      <td>Austria</td>\n",
              "      <td>4.3</td>\n",
              "      <td>51.3</td>\n",
              "      <td>11.00</td>\n",
              "      <td>47.8</td>\n",
              "      <td>43200</td>\n",
              "      <td>0.873</td>\n",
              "      <td>80.5</td>\n",
              "      <td>1.44</td>\n",
              "      <td>46900</td>\n",
              "    </tr>\n",
              "    <tr>\n",
              "      <th>9</th>\n",
              "      <td>Azerbaijan</td>\n",
              "      <td>39.2</td>\n",
              "      <td>54.3</td>\n",
              "      <td>5.88</td>\n",
              "      <td>20.7</td>\n",
              "      <td>16000</td>\n",
              "      <td>13.800</td>\n",
              "      <td>69.1</td>\n",
              "      <td>1.92</td>\n",
              "      <td>5840</td>\n",
              "    </tr>\n",
              "  </tbody>\n",
              "</table>\n",
              "</div>"
            ],
            "text/plain": [
              "                Negara  Kematian_anak  ...  Jumlah_fertiliti  GDPperkapita\n",
              "0          Afghanistan           90.2  ...              5.82           553\n",
              "1              Albania           16.6  ...              1.65          4090\n",
              "2              Algeria           27.3  ...              2.89          4460\n",
              "3               Angola          119.0  ...              6.16          3530\n",
              "4  Antigua and Barbuda           10.3  ...              2.13         12200\n",
              "5            Argentina           14.5  ...              2.37         10300\n",
              "6              Armenia           18.1  ...              1.69          3220\n",
              "7            Australia            4.8  ...              1.93         51900\n",
              "8              Austria            4.3  ...              1.44         46900\n",
              "9           Azerbaijan           39.2  ...              1.92          5840\n",
              "\n",
              "[10 rows x 10 columns]"
            ]
          },
          "metadata": {
            "tags": []
          },
          "execution_count": 29
        }
      ]
    },
    {
      "cell_type": "code",
      "metadata": {
        "colab": {
          "base_uri": "https://localhost:8080/"
        },
        "id": "Pqtv4Wm610ks",
        "outputId": "1eaffbfb-df4c-446e-8d04-c0caab42bce2"
      },
      "source": [
        "df.info()"
      ],
      "execution_count": 22,
      "outputs": [
        {
          "output_type": "stream",
          "text": [
            "<class 'pandas.core.frame.DataFrame'>\n",
            "RangeIndex: 167 entries, 0 to 166\n",
            "Data columns (total 10 columns):\n",
            " #   Column            Non-Null Count  Dtype  \n",
            "---  ------            --------------  -----  \n",
            " 0   Negara            167 non-null    object \n",
            " 1   Kematian_anak     167 non-null    float64\n",
            " 2   Ekspor            167 non-null    float64\n",
            " 3   Kesehatan         167 non-null    float64\n",
            " 4   Impor             167 non-null    float64\n",
            " 5   Pendapatan        167 non-null    int64  \n",
            " 6   Inflasi           167 non-null    float64\n",
            " 7   Harapan_hidup     167 non-null    float64\n",
            " 8   Jumlah_fertiliti  167 non-null    float64\n",
            " 9   GDPperkapita      167 non-null    int64  \n",
            "dtypes: float64(7), int64(2), object(1)\n",
            "memory usage: 13.2+ KB\n"
          ],
          "name": "stdout"
        }
      ]
    },
    {
      "cell_type": "code",
      "metadata": {
        "colab": {
          "base_uri": "https://localhost:8080/"
        },
        "id": "STvfxGXO13Gj",
        "outputId": "d1e5b43d-9dec-4cc4-8762-008fd9bc3072"
      },
      "source": [
        "df.isnull().sum()"
      ],
      "execution_count": 5,
      "outputs": [
        {
          "output_type": "execute_result",
          "data": {
            "text/plain": [
              "Negara              0\n",
              "Kematian_anak       0\n",
              "Ekspor              0\n",
              "Kesehatan           0\n",
              "Impor               0\n",
              "Pendapatan          0\n",
              "Inflasi             0\n",
              "Harapan_hidup       0\n",
              "Jumlah_fertiliti    0\n",
              "GDPperkapita        0\n",
              "dtype: int64"
            ]
          },
          "metadata": {
            "tags": []
          },
          "execution_count": 5
        }
      ]
    },
    {
      "cell_type": "code",
      "metadata": {
        "colab": {
          "base_uri": "https://localhost:8080/",
          "height": 428
        },
        "id": "FZDoazJcuqhP",
        "outputId": "ce634367-b81b-46b5-da33-813f2d8d166c"
      },
      "source": [
        "df = df.set_index('Negara')\n",
        "df"
      ],
      "execution_count": 30,
      "outputs": [
        {
          "output_type": "execute_result",
          "data": {
            "text/html": [
              "<div>\n",
              "<style scoped>\n",
              "    .dataframe tbody tr th:only-of-type {\n",
              "        vertical-align: middle;\n",
              "    }\n",
              "\n",
              "    .dataframe tbody tr th {\n",
              "        vertical-align: top;\n",
              "    }\n",
              "\n",
              "    .dataframe thead th {\n",
              "        text-align: right;\n",
              "    }\n",
              "</style>\n",
              "<table border=\"1\" class=\"dataframe\">\n",
              "  <thead>\n",
              "    <tr style=\"text-align: right;\">\n",
              "      <th></th>\n",
              "      <th>Kematian_anak</th>\n",
              "      <th>Ekspor</th>\n",
              "      <th>Kesehatan</th>\n",
              "      <th>Impor</th>\n",
              "      <th>Pendapatan</th>\n",
              "      <th>Inflasi</th>\n",
              "      <th>Harapan_hidup</th>\n",
              "      <th>Jumlah_fertiliti</th>\n",
              "      <th>GDPperkapita</th>\n",
              "    </tr>\n",
              "    <tr>\n",
              "      <th>Negara</th>\n",
              "      <th></th>\n",
              "      <th></th>\n",
              "      <th></th>\n",
              "      <th></th>\n",
              "      <th></th>\n",
              "      <th></th>\n",
              "      <th></th>\n",
              "      <th></th>\n",
              "      <th></th>\n",
              "    </tr>\n",
              "  </thead>\n",
              "  <tbody>\n",
              "    <tr>\n",
              "      <th>Afghanistan</th>\n",
              "      <td>90.2</td>\n",
              "      <td>10.0</td>\n",
              "      <td>7.58</td>\n",
              "      <td>44.9</td>\n",
              "      <td>1610</td>\n",
              "      <td>9.44</td>\n",
              "      <td>56.2</td>\n",
              "      <td>5.82</td>\n",
              "      <td>553</td>\n",
              "    </tr>\n",
              "    <tr>\n",
              "      <th>Albania</th>\n",
              "      <td>16.6</td>\n",
              "      <td>28.0</td>\n",
              "      <td>6.55</td>\n",
              "      <td>48.6</td>\n",
              "      <td>9930</td>\n",
              "      <td>4.49</td>\n",
              "      <td>76.3</td>\n",
              "      <td>1.65</td>\n",
              "      <td>4090</td>\n",
              "    </tr>\n",
              "    <tr>\n",
              "      <th>Algeria</th>\n",
              "      <td>27.3</td>\n",
              "      <td>38.4</td>\n",
              "      <td>4.17</td>\n",
              "      <td>31.4</td>\n",
              "      <td>12900</td>\n",
              "      <td>16.10</td>\n",
              "      <td>76.5</td>\n",
              "      <td>2.89</td>\n",
              "      <td>4460</td>\n",
              "    </tr>\n",
              "    <tr>\n",
              "      <th>Angola</th>\n",
              "      <td>119.0</td>\n",
              "      <td>62.3</td>\n",
              "      <td>2.85</td>\n",
              "      <td>42.9</td>\n",
              "      <td>5900</td>\n",
              "      <td>22.40</td>\n",
              "      <td>60.1</td>\n",
              "      <td>6.16</td>\n",
              "      <td>3530</td>\n",
              "    </tr>\n",
              "    <tr>\n",
              "      <th>Antigua and Barbuda</th>\n",
              "      <td>10.3</td>\n",
              "      <td>45.5</td>\n",
              "      <td>6.03</td>\n",
              "      <td>58.9</td>\n",
              "      <td>19100</td>\n",
              "      <td>1.44</td>\n",
              "      <td>76.8</td>\n",
              "      <td>2.13</td>\n",
              "      <td>12200</td>\n",
              "    </tr>\n",
              "    <tr>\n",
              "      <th>...</th>\n",
              "      <td>...</td>\n",
              "      <td>...</td>\n",
              "      <td>...</td>\n",
              "      <td>...</td>\n",
              "      <td>...</td>\n",
              "      <td>...</td>\n",
              "      <td>...</td>\n",
              "      <td>...</td>\n",
              "      <td>...</td>\n",
              "    </tr>\n",
              "    <tr>\n",
              "      <th>Vanuatu</th>\n",
              "      <td>29.2</td>\n",
              "      <td>46.6</td>\n",
              "      <td>5.25</td>\n",
              "      <td>52.7</td>\n",
              "      <td>2950</td>\n",
              "      <td>2.62</td>\n",
              "      <td>63.0</td>\n",
              "      <td>3.50</td>\n",
              "      <td>2970</td>\n",
              "    </tr>\n",
              "    <tr>\n",
              "      <th>Venezuela</th>\n",
              "      <td>17.1</td>\n",
              "      <td>28.5</td>\n",
              "      <td>4.91</td>\n",
              "      <td>17.6</td>\n",
              "      <td>16500</td>\n",
              "      <td>45.90</td>\n",
              "      <td>75.4</td>\n",
              "      <td>2.47</td>\n",
              "      <td>13500</td>\n",
              "    </tr>\n",
              "    <tr>\n",
              "      <th>Vietnam</th>\n",
              "      <td>23.3</td>\n",
              "      <td>72.0</td>\n",
              "      <td>6.84</td>\n",
              "      <td>80.2</td>\n",
              "      <td>4490</td>\n",
              "      <td>12.10</td>\n",
              "      <td>73.1</td>\n",
              "      <td>1.95</td>\n",
              "      <td>1310</td>\n",
              "    </tr>\n",
              "    <tr>\n",
              "      <th>Yemen</th>\n",
              "      <td>56.3</td>\n",
              "      <td>30.0</td>\n",
              "      <td>5.18</td>\n",
              "      <td>34.4</td>\n",
              "      <td>4480</td>\n",
              "      <td>23.60</td>\n",
              "      <td>67.5</td>\n",
              "      <td>4.67</td>\n",
              "      <td>1310</td>\n",
              "    </tr>\n",
              "    <tr>\n",
              "      <th>Zambia</th>\n",
              "      <td>83.1</td>\n",
              "      <td>37.0</td>\n",
              "      <td>5.89</td>\n",
              "      <td>30.9</td>\n",
              "      <td>3280</td>\n",
              "      <td>14.00</td>\n",
              "      <td>52.0</td>\n",
              "      <td>5.40</td>\n",
              "      <td>1460</td>\n",
              "    </tr>\n",
              "  </tbody>\n",
              "</table>\n",
              "<p>167 rows × 9 columns</p>\n",
              "</div>"
            ],
            "text/plain": [
              "                     Kematian_anak  Ekspor  ...  Jumlah_fertiliti  GDPperkapita\n",
              "Negara                                      ...                                \n",
              "Afghanistan                   90.2    10.0  ...              5.82           553\n",
              "Albania                       16.6    28.0  ...              1.65          4090\n",
              "Algeria                       27.3    38.4  ...              2.89          4460\n",
              "Angola                       119.0    62.3  ...              6.16          3530\n",
              "Antigua and Barbuda           10.3    45.5  ...              2.13         12200\n",
              "...                            ...     ...  ...               ...           ...\n",
              "Vanuatu                       29.2    46.6  ...              3.50          2970\n",
              "Venezuela                     17.1    28.5  ...              2.47         13500\n",
              "Vietnam                       23.3    72.0  ...              1.95          1310\n",
              "Yemen                         56.3    30.0  ...              4.67          1310\n",
              "Zambia                        83.1    37.0  ...              5.40          1460\n",
              "\n",
              "[167 rows x 9 columns]"
            ]
          },
          "metadata": {
            "tags": []
          },
          "execution_count": 30
        }
      ]
    },
    {
      "cell_type": "code",
      "metadata": {
        "colab": {
          "base_uri": "https://localhost:8080/",
          "height": 484
        },
        "id": "32Y0BWRcCRga",
        "outputId": "5eacd7b1-0837-4d8f-a864-7eef50455f10"
      },
      "source": [
        "df_coba = df[['Kematian_anak','Ekspor','Kesehatan','Impor','Pendapatan','Inflasi','Harapan_hidup','Jumlah_fertiliti','GDPperkapita']]\n",
        "fig, ax = plt.subplots(figsize=(12,8))\n",
        "sns.boxplot(data=df_coba)\n",
        "plt.show()"
      ],
      "execution_count": 7,
      "outputs": [
        {
          "output_type": "display_data",
          "data": {
            "image/png": "[encoded data removed]",
            "text/plain": [
              "<Figure size 864x576 with 1 Axes>"
            ]
          },
          "metadata": {
            "tags": [],
            "needs_background": "light"
          }
        }
      ]
    },
    {
      "cell_type": "code",
      "metadata": {
        "colab": {
          "base_uri": "https://localhost:8080/",
          "height": 297
        },
        "id": "7oadHwJrCtFF",
        "outputId": "dfafbde1-189b-480f-95fb-127c08de43ba"
      },
      "source": [
        "sns.boxplot(x='GDPperkapita', data=df)"
      ],
      "execution_count": 8,
      "outputs": [
        {
          "output_type": "execute_result",
          "data": {
            "text/plain": [
              "<matplotlib.axes._subplots.AxesSubplot at 0x7f0af87aab10>"
            ]
          },
          "metadata": {
            "tags": []
          },
          "execution_count": 8
        },
        {
          "output_type": "display_data",
          "data": {
            "image/png": "[encoded data removed]",
            "text/plain": [
              "<Figure size 432x288 with 1 Axes>"
            ]
          },
          "metadata": {
            "tags": [],
            "needs_background": "light"
          }
        }
      ]
    },
    {
      "cell_type": "code",
      "metadata": {
        "colab": {
          "base_uri": "https://localhost:8080/",
          "height": 297
        },
        "id": "HhdzpLPuC6Mr",
        "outputId": "94c848a0-22d9-4838-f1ab-b84ca62d857b"
      },
      "source": [
        "sns.boxplot(x='Pendapatan', data=df)"
      ],
      "execution_count": 9,
      "outputs": [
        {
          "output_type": "execute_result",
          "data": {
            "text/plain": [
              "<matplotlib.axes._subplots.AxesSubplot at 0x7f0af815f090>"
            ]
          },
          "metadata": {
            "tags": []
          },
          "execution_count": 9
        },
        {
          "output_type": "display_data",
          "data": {
            "image/png": "[encoded data removed]",
            "text/plain": [
              "<Figure size 432x288 with 1 Axes>"
            ]
          },
          "metadata": {
            "tags": [],
            "needs_background": "light"
          }
        }
      ]
    },
    {
      "cell_type": "code",
      "metadata": {
        "colab": {
          "base_uri": "https://localhost:8080/",
          "height": 571
        },
        "id": "r4gI22VqFEbQ",
        "outputId": "b41cff64-a780-442e-b3dc-3febac14a8e3"
      },
      "source": [
        "plt.figure(figsize=(12,8))\n",
        "sns.heatmap(df.corr(), annot=True, fmt='.2g')"
      ],
      "execution_count": 10,
      "outputs": [
        {
          "output_type": "execute_result",
          "data": {
            "text/plain": [
              "<matplotlib.axes._subplots.AxesSubplot at 0x7f0af80d6b90>"
            ]
          },
          "metadata": {
            "tags": []
          },
          "execution_count": 10
        },
        {
          "output_type": "display_data",
          "data": {
            "image/png": "[encoded data removed]",
            "text/plain": [
              "<Figure size 864x576 with 2 Axes>"
            ]
          },
          "metadata": {
            "tags": [],
            "needs_background": "light"
          }
        }
      ]
    },
    {
      "cell_type": "code",
      "metadata": {
        "colab": {
          "base_uri": "https://localhost:8080/"
        },
        "id": "gRHDV8bd16Im",
        "outputId": "ce1cd54a-b63b-4f9f-a03d-4e511b90f4e1"
      },
      "source": [
        "df.duplicated().sum()"
      ],
      "execution_count": 11,
      "outputs": [
        {
          "output_type": "execute_result",
          "data": {
            "text/plain": [
              "0"
            ]
          },
          "metadata": {
            "tags": []
          },
          "execution_count": 11
        }
      ]
    },
    {
      "cell_type": "code",
      "metadata": {
        "id": "XnyftNzcB7Wv"
      },
      "source": [
        "def finding_outlier(df):\n",
        "  q1 = df.quantile(0.25)\n",
        "  q3 = df.quantile(0.75)\n",
        "  iqr = q3 - q1\n",
        "  df_final = df[(df<(q1-(1.5*iqr))) | (df>(q3+(1.5*iqr)))]\n",
        "  return df_final"
      ],
      "execution_count": 5,
      "outputs": []
    },
    {
      "cell_type": "code",
      "metadata": {
        "colab": {
          "base_uri": "https://localhost:8080/"
        },
        "id": "CskK9okQC4vf",
        "outputId": "299ea699-1f32-4ff2-9004-e638d0bba57b"
      },
      "source": [
        "print(finding_outlier(df['Kematian_anak']).count())\n",
        "print(finding_outlier(df['Ekspor']).count())\n",
        "print(finding_outlier(df['Kesehatan']).count())\n",
        "print(finding_outlier(df['Impor']).count())\n",
        "print(finding_outlier(df['Pendapatan']).count())\n",
        "print(finding_outlier(df['Inflasi']).count())\n",
        "print(finding_outlier(df['Harapan_hidup']).count())\n",
        "print(finding_outlier(df['Jumlah_fertiliti']).count())\n",
        "print(finding_outlier(df['GDPperkapita']).count())"
      ],
      "execution_count": 6,
      "outputs": [
        {
          "output_type": "stream",
          "text": [
            "4\n",
            "5\n",
            "2\n",
            "4\n",
            "8\n",
            "5\n",
            "3\n",
            "1\n",
            "25\n"
          ],
          "name": "stdout"
        }
      ]
    },
    {
      "cell_type": "code",
      "metadata": {
        "id": "YZMe-3TFDREO"
      },
      "source": [
        "def remove_outlier(df):\n",
        "  q1 = df.quantile(0.25)\n",
        "  q3 = df.quantile(0.75)\n",
        "  iqr = q3 - q1\n",
        "  df_final = df[~((df<(q1-(1.5*iqr))) | (df>(q3+(1.5*iqr))))]\n",
        "  return df_final"
      ],
      "execution_count": 7,
      "outputs": []
    },
    {
      "cell_type": "code",
      "metadata": {
        "colab": {
          "base_uri": "https://localhost:8080/",
          "height": 428
        },
        "id": "HHs3JQDZE-oz",
        "outputId": "d63e9477-98b1-407c-8991-38fffdf8dd2e"
      },
      "source": [
        "df = remove_outlier(df[['Kematian_anak','Ekspor','Kesehatan','Impor','Pendapatan','Inflasi','Harapan_hidup','Jumlah_fertiliti','GDPperkapita']])\n",
        "df"
      ],
      "execution_count": 31,
      "outputs": [
        {
          "output_type": "execute_result",
          "data": {
            "text/html": [
              "<div>\n",
              "<style scoped>\n",
              "    .dataframe tbody tr th:only-of-type {\n",
              "        vertical-align: middle;\n",
              "    }\n",
              "\n",
              "    .dataframe tbody tr th {\n",
              "        vertical-align: top;\n",
              "    }\n",
              "\n",
              "    .dataframe thead th {\n",
              "        text-align: right;\n",
              "    }\n",
              "</style>\n",
              "<table border=\"1\" class=\"dataframe\">\n",
              "  <thead>\n",
              "    <tr style=\"text-align: right;\">\n",
              "      <th></th>\n",
              "      <th>Kematian_anak</th>\n",
              "      <th>Ekspor</th>\n",
              "      <th>Kesehatan</th>\n",
              "      <th>Impor</th>\n",
              "      <th>Pendapatan</th>\n",
              "      <th>Inflasi</th>\n",
              "      <th>Harapan_hidup</th>\n",
              "      <th>Jumlah_fertiliti</th>\n",
              "      <th>GDPperkapita</th>\n",
              "    </tr>\n",
              "    <tr>\n",
              "      <th>Negara</th>\n",
              "      <th></th>\n",
              "      <th></th>\n",
              "      <th></th>\n",
              "      <th></th>\n",
              "      <th></th>\n",
              "      <th></th>\n",
              "      <th></th>\n",
              "      <th></th>\n",
              "      <th></th>\n",
              "    </tr>\n",
              "  </thead>\n",
              "  <tbody>\n",
              "    <tr>\n",
              "      <th>Afghanistan</th>\n",
              "      <td>90.2</td>\n",
              "      <td>10.0</td>\n",
              "      <td>7.58</td>\n",
              "      <td>44.9</td>\n",
              "      <td>1610.0</td>\n",
              "      <td>9.44</td>\n",
              "      <td>56.2</td>\n",
              "      <td>5.82</td>\n",
              "      <td>553.0</td>\n",
              "    </tr>\n",
              "    <tr>\n",
              "      <th>Albania</th>\n",
              "      <td>16.6</td>\n",
              "      <td>28.0</td>\n",
              "      <td>6.55</td>\n",
              "      <td>48.6</td>\n",
              "      <td>9930.0</td>\n",
              "      <td>4.49</td>\n",
              "      <td>76.3</td>\n",
              "      <td>1.65</td>\n",
              "      <td>4090.0</td>\n",
              "    </tr>\n",
              "    <tr>\n",
              "      <th>Algeria</th>\n",
              "      <td>27.3</td>\n",
              "      <td>38.4</td>\n",
              "      <td>4.17</td>\n",
              "      <td>31.4</td>\n",
              "      <td>12900.0</td>\n",
              "      <td>16.10</td>\n",
              "      <td>76.5</td>\n",
              "      <td>2.89</td>\n",
              "      <td>4460.0</td>\n",
              "    </tr>\n",
              "    <tr>\n",
              "      <th>Angola</th>\n",
              "      <td>119.0</td>\n",
              "      <td>62.3</td>\n",
              "      <td>2.85</td>\n",
              "      <td>42.9</td>\n",
              "      <td>5900.0</td>\n",
              "      <td>22.40</td>\n",
              "      <td>60.1</td>\n",
              "      <td>6.16</td>\n",
              "      <td>3530.0</td>\n",
              "    </tr>\n",
              "    <tr>\n",
              "      <th>Antigua and Barbuda</th>\n",
              "      <td>10.3</td>\n",
              "      <td>45.5</td>\n",
              "      <td>6.03</td>\n",
              "      <td>58.9</td>\n",
              "      <td>19100.0</td>\n",
              "      <td>1.44</td>\n",
              "      <td>76.8</td>\n",
              "      <td>2.13</td>\n",
              "      <td>12200.0</td>\n",
              "    </tr>\n",
              "    <tr>\n",
              "      <th>...</th>\n",
              "      <td>...</td>\n",
              "      <td>...</td>\n",
              "      <td>...</td>\n",
              "      <td>...</td>\n",
              "      <td>...</td>\n",
              "      <td>...</td>\n",
              "      <td>...</td>\n",
              "      <td>...</td>\n",
              "      <td>...</td>\n",
              "    </tr>\n",
              "    <tr>\n",
              "      <th>Vanuatu</th>\n",
              "      <td>29.2</td>\n",
              "      <td>46.6</td>\n",
              "      <td>5.25</td>\n",
              "      <td>52.7</td>\n",
              "      <td>2950.0</td>\n",
              "      <td>2.62</td>\n",
              "      <td>63.0</td>\n",
              "      <td>3.50</td>\n",
              "      <td>2970.0</td>\n",
              "    </tr>\n",
              "    <tr>\n",
              "      <th>Venezuela</th>\n",
              "      <td>17.1</td>\n",
              "      <td>28.5</td>\n",
              "      <td>4.91</td>\n",
              "      <td>17.6</td>\n",
              "      <td>16500.0</td>\n",
              "      <td>NaN</td>\n",
              "      <td>75.4</td>\n",
              "      <td>2.47</td>\n",
              "      <td>13500.0</td>\n",
              "    </tr>\n",
              "    <tr>\n",
              "      <th>Vietnam</th>\n",
              "      <td>23.3</td>\n",
              "      <td>72.0</td>\n",
              "      <td>6.84</td>\n",
              "      <td>80.2</td>\n",
              "      <td>4490.0</td>\n",
              "      <td>12.10</td>\n",
              "      <td>73.1</td>\n",
              "      <td>1.95</td>\n",
              "      <td>1310.0</td>\n",
              "    </tr>\n",
              "    <tr>\n",
              "      <th>Yemen</th>\n",
              "      <td>56.3</td>\n",
              "      <td>30.0</td>\n",
              "      <td>5.18</td>\n",
              "      <td>34.4</td>\n",
              "      <td>4480.0</td>\n",
              "      <td>23.60</td>\n",
              "      <td>67.5</td>\n",
              "      <td>4.67</td>\n",
              "      <td>1310.0</td>\n",
              "    </tr>\n",
              "    <tr>\n",
              "      <th>Zambia</th>\n",
              "      <td>83.1</td>\n",
              "      <td>37.0</td>\n",
              "      <td>5.89</td>\n",
              "      <td>30.9</td>\n",
              "      <td>3280.0</td>\n",
              "      <td>14.00</td>\n",
              "      <td>52.0</td>\n",
              "      <td>5.40</td>\n",
              "      <td>1460.0</td>\n",
              "    </tr>\n",
              "  </tbody>\n",
              "</table>\n",
              "<p>167 rows × 9 columns</p>\n",
              "</div>"
            ],
            "text/plain": [
              "                     Kematian_anak  Ekspor  ...  Jumlah_fertiliti  GDPperkapita\n",
              "Negara                                      ...                                \n",
              "Afghanistan                   90.2    10.0  ...              5.82         553.0\n",
              "Albania                       16.6    28.0  ...              1.65        4090.0\n",
              "Algeria                       27.3    38.4  ...              2.89        4460.0\n",
              "Angola                       119.0    62.3  ...              6.16        3530.0\n",
              "Antigua and Barbuda           10.3    45.5  ...              2.13       12200.0\n",
              "...                            ...     ...  ...               ...           ...\n",
              "Vanuatu                       29.2    46.6  ...              3.50        2970.0\n",
              "Venezuela                     17.1    28.5  ...              2.47       13500.0\n",
              "Vietnam                       23.3    72.0  ...              1.95        1310.0\n",
              "Yemen                         56.3    30.0  ...              4.67        1310.0\n",
              "Zambia                        83.1    37.0  ...              5.40        1460.0\n",
              "\n",
              "[167 rows x 9 columns]"
            ]
          },
          "metadata": {
            "tags": []
          },
          "execution_count": 31
        }
      ]
    },
    {
      "cell_type": "code",
      "metadata": {
        "colab": {
          "base_uri": "https://localhost:8080/"
        },
        "id": "eZFWFAzH-sei",
        "outputId": "09050993-0a5e-49b3-ca6f-17b86b414cd8"
      },
      "source": [
        "df.isnull().sum()"
      ],
      "execution_count": 9,
      "outputs": [
        {
          "output_type": "execute_result",
          "data": {
            "text/plain": [
              "Kematian_anak        4\n",
              "Ekspor               5\n",
              "Kesehatan            2\n",
              "Impor                4\n",
              "Pendapatan           8\n",
              "Inflasi              5\n",
              "Harapan_hidup        3\n",
              "Jumlah_fertiliti     1\n",
              "GDPperkapita        25\n",
              "dtype: int64"
            ]
          },
          "metadata": {
            "tags": []
          },
          "execution_count": 9
        }
      ]
    },
    {
      "cell_type": "code",
      "metadata": {
        "id": "VRvIcmjJ-ymZ"
      },
      "source": [
        "df.dropna(axis=0, inplace=True)"
      ],
      "execution_count": 32,
      "outputs": []
    },
    {
      "cell_type": "code",
      "metadata": {
        "colab": {
          "base_uri": "https://localhost:8080/"
        },
        "id": "5MZa9lsI-zzQ",
        "outputId": "0325155c-c30d-4307-8d9a-38f9616e9d4f"
      },
      "source": [
        "df.isnull().sum()"
      ],
      "execution_count": 34,
      "outputs": [
        {
          "output_type": "execute_result",
          "data": {
            "text/plain": [
              "Kematian_anak       0\n",
              "Ekspor              0\n",
              "Kesehatan           0\n",
              "Impor               0\n",
              "Pendapatan          0\n",
              "Inflasi             0\n",
              "Harapan_hidup       0\n",
              "Jumlah_fertiliti    0\n",
              "GDPperkapita        0\n",
              "dtype: int64"
            ]
          },
          "metadata": {
            "tags": []
          },
          "execution_count": 34
        }
      ]
    },
    {
      "cell_type": "code",
      "metadata": {
        "colab": {
          "base_uri": "https://localhost:8080/",
          "height": 221
        },
        "id": "TV5nW8L9-SjP",
        "outputId": "047d0ec3-b761-4439-b3ab-3e1bff8c0462"
      },
      "source": [
        "from sklearn.preprocessing import StandardScaler\n",
        "\n",
        "sc = StandardScaler()\n",
        "df_std = sc.fit_transform(df.astype(float))\n",
        "df_std"
      ],
      "execution_count": 33,
      "outputs": [
        {
          "output_type": "error",
          "ename": "AttributeError",
          "evalue": "ignored",
          "traceback": [
            "\u001b[0;31m---------------------------------------------------------------------------\u001b[0m",
            "\u001b[0;31mAttributeError\u001b[0m                            Traceback (most recent call last)",
            "\u001b[0;32m<ipython-input-33-7ac4fea6687e>\u001b[0m in \u001b[0;36m<module>\u001b[0;34m()\u001b[0m\n\u001b[1;32m      3\u001b[0m \u001b[0msc\u001b[0m \u001b[0;34m=\u001b[0m \u001b[0mStandardScaler\u001b[0m\u001b[0;34m(\u001b[0m\u001b[0;34m)\u001b[0m\u001b[0;34m\u001b[0m\u001b[0;34m\u001b[0m\u001b[0m\n\u001b[1;32m      4\u001b[0m \u001b[0mdf_std\u001b[0m \u001b[0;34m=\u001b[0m \u001b[0msc\u001b[0m\u001b[0;34m.\u001b[0m\u001b[0mfit_transform\u001b[0m\u001b[0;34m(\u001b[0m\u001b[0mdf\u001b[0m\u001b[0;34m.\u001b[0m\u001b[0mastype\u001b[0m\u001b[0;34m(\u001b[0m\u001b[0mfloat\u001b[0m\u001b[0;34m)\u001b[0m\u001b[0;34m)\u001b[0m\u001b[0;34m\u001b[0m\u001b[0;34m\u001b[0m\u001b[0m\n\u001b[0;32m----> 5\u001b[0;31m \u001b[0mdf_std\u001b[0m \u001b[0;34m=\u001b[0m \u001b[0mdf_std\u001b[0m\u001b[0;34m.\u001b[0m\u001b[0mset_index\u001b[0m\u001b[0;34m(\u001b[0m\u001b[0;34m'Negara'\u001b[0m\u001b[0;34m)\u001b[0m\u001b[0;34m\u001b[0m\u001b[0;34m\u001b[0m\u001b[0m\n\u001b[0m\u001b[1;32m      6\u001b[0m \u001b[0mdf_std\u001b[0m\u001b[0;34m\u001b[0m\u001b[0;34m\u001b[0m\u001b[0m\n",
            "\u001b[0;31mAttributeError\u001b[0m: 'numpy.ndarray' object has no attribute 'set_index'"
          ]
        }
      ]
    },
    {
      "cell_type": "code",
      "metadata": {
        "colab": {
          "base_uri": "https://localhost:8080/"
        },
        "id": "BDvDnebb-aT-",
        "outputId": "e314f6d7-46bf-4e62-8ec9-3df25fdff721"
      },
      "source": [
        "from sklearn.cluster import KMeans\n",
        "\n",
        "kmeans1 = KMeans(n_clusters = 3).fit(df_std)\n",
        "labels1 = kmeans1.labels_\n",
        "labels1"
      ],
      "execution_count": 12,
      "outputs": [
        {
          "output_type": "execute_result",
          "data": {
            "text/plain": [
              "array([2, 0, 0, 2, 1, 0, 0, 0, 1, 1, 0, 1, 0, 0, 2, 0, 0, 0, 0, 0, 1, 2,\n",
              "       2, 0, 2, 0, 1, 0, 0, 2, 2, 2, 0, 2, 1, 1, 1, 0, 0, 0, 0, 2, 1, 0,\n",
              "       2, 2, 0, 2, 1, 0, 0, 2, 2, 0, 1, 0, 0, 0, 0, 1, 0, 0, 0, 2, 2, 0,\n",
              "       2, 1, 1, 2, 1, 1, 0, 2, 2, 1, 1, 2, 2, 1, 0, 1, 0, 2, 2, 2, 0, 1,\n",
              "       2, 1, 0, 0, 0, 1, 1, 0, 0, 2, 0, 1, 2, 0, 1, 1, 0, 2, 1, 1, 0, 0,\n",
              "       2, 0, 0, 2, 0, 2, 0, 0, 0, 0, 2, 0, 0, 0, 0, 0, 2, 2], dtype=int32)"
            ]
          },
          "metadata": {
            "tags": []
          },
          "execution_count": 12
        }
      ]
    },
    {
      "cell_type": "code",
      "metadata": {
        "colab": {
          "base_uri": "https://localhost:8080/",
          "height": 399
        },
        "id": "Crkd98Ap-mK9",
        "outputId": "f988eba8-f5cc-4d5e-ffd7-8f129dcdd029"
      },
      "source": [
        "df_new = pd.DataFrame(data=df_std, columns=['Kematian_anak','Ekspor','Kesehatan','Impor','Pendapatan','Inflasi','Harapan_hidup','Jumlah_fertiliti','GDPperkapita'])\n",
        "df['label1_kmeans'] = labels1\n",
        "df"
      ],
      "execution_count": 23,
      "outputs": [
        {
          "output_type": "execute_result",
          "data": {
            "text/html": [
              "<div>\n",
              "<style scoped>\n",
              "    .dataframe tbody tr th:only-of-type {\n",
              "        vertical-align: middle;\n",
              "    }\n",
              "\n",
              "    .dataframe tbody tr th {\n",
              "        vertical-align: top;\n",
              "    }\n",
              "\n",
              "    .dataframe thead th {\n",
              "        text-align: right;\n",
              "    }\n",
              "</style>\n",
              "<table border=\"1\" class=\"dataframe\">\n",
              "  <thead>\n",
              "    <tr style=\"text-align: right;\">\n",
              "      <th></th>\n",
              "      <th>Kematian_anak</th>\n",
              "      <th>Ekspor</th>\n",
              "      <th>Kesehatan</th>\n",
              "      <th>Impor</th>\n",
              "      <th>Pendapatan</th>\n",
              "      <th>Inflasi</th>\n",
              "      <th>Harapan_hidup</th>\n",
              "      <th>Jumlah_fertiliti</th>\n",
              "      <th>GDPperkapita</th>\n",
              "      <th>label1_kmeans</th>\n",
              "    </tr>\n",
              "  </thead>\n",
              "  <tbody>\n",
              "    <tr>\n",
              "      <th>0</th>\n",
              "      <td>1.519326</td>\n",
              "      <td>-1.465026</td>\n",
              "      <td>0.560239</td>\n",
              "      <td>-0.012828</td>\n",
              "      <td>-0.979797</td>\n",
              "      <td>0.343115</td>\n",
              "      <td>-1.828627</td>\n",
              "      <td>1.917030</td>\n",
              "      <td>-0.825561</td>\n",
              "      <td>2</td>\n",
              "    </tr>\n",
              "    <tr>\n",
              "      <th>1</th>\n",
              "      <td>-0.656174</td>\n",
              "      <td>-0.503559</td>\n",
              "      <td>0.092995</td>\n",
              "      <td>0.196191</td>\n",
              "      <td>-0.125286</td>\n",
              "      <td>-0.465551</td>\n",
              "      <td>0.895099</td>\n",
              "      <td>-0.938772</td>\n",
              "      <td>-0.328385</td>\n",
              "      <td>0</td>\n",
              "    </tr>\n",
              "    <tr>\n",
              "      <th>2</th>\n",
              "      <td>-0.339899</td>\n",
              "      <td>0.051955</td>\n",
              "      <td>-0.986655</td>\n",
              "      <td>-0.775465</td>\n",
              "      <td>0.179750</td>\n",
              "      <td>1.431138</td>\n",
              "      <td>0.922200</td>\n",
              "      <td>-0.089565</td>\n",
              "      <td>-0.276376</td>\n",
              "      <td>0</td>\n",
              "    </tr>\n",
              "    <tr>\n",
              "      <th>3</th>\n",
              "      <td>2.370608</td>\n",
              "      <td>1.328569</td>\n",
              "      <td>-1.585453</td>\n",
              "      <td>-0.125811</td>\n",
              "      <td>-0.539189</td>\n",
              "      <td>2.460348</td>\n",
              "      <td>-1.300143</td>\n",
              "      <td>2.149878</td>\n",
              "      <td>-0.407101</td>\n",
              "      <td>2</td>\n",
              "    </tr>\n",
              "    <tr>\n",
              "      <th>4</th>\n",
              "      <td>-0.842392</td>\n",
              "      <td>0.431200</td>\n",
              "      <td>-0.142895</td>\n",
              "      <td>0.778055</td>\n",
              "      <td>0.816525</td>\n",
              "      <td>-0.963819</td>\n",
              "      <td>0.962853</td>\n",
              "      <td>-0.610047</td>\n",
              "      <td>0.811593</td>\n",
              "      <td>1</td>\n",
              "    </tr>\n",
              "    <tr>\n",
              "      <th>...</th>\n",
              "      <td>...</td>\n",
              "      <td>...</td>\n",
              "      <td>...</td>\n",
              "      <td>...</td>\n",
              "      <td>...</td>\n",
              "      <td>...</td>\n",
              "      <td>...</td>\n",
              "      <td>...</td>\n",
              "      <td>...</td>\n",
              "      <td>...</td>\n",
              "    </tr>\n",
              "    <tr>\n",
              "      <th>123</th>\n",
              "      <td>-0.073873</td>\n",
              "      <td>-0.305925</td>\n",
              "      <td>-0.242695</td>\n",
              "      <td>-0.939291</td>\n",
              "      <td>-0.709681</td>\n",
              "      <td>1.496484</td>\n",
              "      <td>-0.121217</td>\n",
              "      <td>-0.466229</td>\n",
              "      <td>-0.709315</td>\n",
              "      <td>0</td>\n",
              "    </tr>\n",
              "    <tr>\n",
              "      <th>124</th>\n",
              "      <td>-0.283738</td>\n",
              "      <td>0.489956</td>\n",
              "      <td>-0.496730</td>\n",
              "      <td>0.427807</td>\n",
              "      <td>-0.842171</td>\n",
              "      <td>-0.771047</td>\n",
              "      <td>-0.907167</td>\n",
              "      <td>0.328190</td>\n",
              "      <td>-0.485817</td>\n",
              "      <td>0</td>\n",
              "    </tr>\n",
              "    <tr>\n",
              "      <th>125</th>\n",
              "      <td>-0.458132</td>\n",
              "      <td>1.846693</td>\n",
              "      <td>0.224549</td>\n",
              "      <td>1.981328</td>\n",
              "      <td>-0.684004</td>\n",
              "      <td>0.777671</td>\n",
              "      <td>0.461471</td>\n",
              "      <td>-0.733319</td>\n",
              "      <td>-0.719154</td>\n",
              "      <td>0</td>\n",
              "    </tr>\n",
              "    <tr>\n",
              "      <th>126</th>\n",
              "      <td>0.517295</td>\n",
              "      <td>-0.396730</td>\n",
              "      <td>-0.528484</td>\n",
              "      <td>-0.605990</td>\n",
              "      <td>-0.685031</td>\n",
              "      <td>2.656388</td>\n",
              "      <td>-0.297378</td>\n",
              "      <td>1.129459</td>\n",
              "      <td>-0.719154</td>\n",
              "      <td>2</td>\n",
              "    </tr>\n",
              "    <tr>\n",
              "      <th>127</th>\n",
              "      <td>1.309461</td>\n",
              "      <td>-0.022826</td>\n",
              "      <td>-0.206404</td>\n",
              "      <td>-0.803711</td>\n",
              "      <td>-0.808278</td>\n",
              "      <td>1.088067</td>\n",
              "      <td>-2.397763</td>\n",
              "      <td>1.629396</td>\n",
              "      <td>-0.698069</td>\n",
              "      <td>2</td>\n",
              "    </tr>\n",
              "  </tbody>\n",
              "</table>\n",
              "<p>128 rows × 10 columns</p>\n",
              "</div>"
            ],
            "text/plain": [
              "     Kematian_anak    Ekspor  ...  GDPperkapita  label1_kmeans\n",
              "0         1.519326 -1.465026  ...     -0.825561              2\n",
              "1        -0.656174 -0.503559  ...     -0.328385              0\n",
              "2        -0.339899  0.051955  ...     -0.276376              0\n",
              "3         2.370608  1.328569  ...     -0.407101              2\n",
              "4        -0.842392  0.431200  ...      0.811593              1\n",
              "..             ...       ...  ...           ...            ...\n",
              "123      -0.073873 -0.305925  ...     -0.709315              0\n",
              "124      -0.283738  0.489956  ...     -0.485817              0\n",
              "125      -0.458132  1.846693  ...     -0.719154              0\n",
              "126       0.517295 -0.396730  ...     -0.719154              2\n",
              "127       1.309461 -0.022826  ...     -0.698069              2\n",
              "\n",
              "[128 rows x 10 columns]"
            ]
          },
          "metadata": {
            "tags": []
          },
          "execution_count": 23
        }
      ]
    },
    {
      "cell_type": "code",
      "metadata": {
        "colab": {
          "base_uri": "https://localhost:8080/",
          "height": 839
        },
        "id": "wycK5uTNZSoQ",
        "outputId": "cb50bcfe-77dd-463e-d6e2-de09f0fecdd9"
      },
      "source": [
        "df_new[df_new['label1_kmeans']==1]"
      ],
      "execution_count": 20,
      "outputs": [
        {
          "output_type": "execute_result",
          "data": {
            "text/html": [
              "<div>\n",
              "<style scoped>\n",
              "    .dataframe tbody tr th:only-of-type {\n",
              "        vertical-align: middle;\n",
              "    }\n",
              "\n",
              "    .dataframe tbody tr th {\n",
              "        vertical-align: top;\n",
              "    }\n",
              "\n",
              "    .dataframe thead th {\n",
              "        text-align: right;\n",
              "    }\n",
              "</style>\n",
              "<table border=\"1\" class=\"dataframe\">\n",
              "  <thead>\n",
              "    <tr style=\"text-align: right;\">\n",
              "      <th></th>\n",
              "      <th>Kematian_anak</th>\n",
              "      <th>Ekspor</th>\n",
              "      <th>Kesehatan</th>\n",
              "      <th>Impor</th>\n",
              "      <th>Pendapatan</th>\n",
              "      <th>Inflasi</th>\n",
              "      <th>Harapan_hidup</th>\n",
              "      <th>Jumlah_fertiliti</th>\n",
              "      <th>GDPperkapita</th>\n",
              "      <th>label1_kmeans</th>\n",
              "    </tr>\n",
              "  </thead>\n",
              "  <tbody>\n",
              "    <tr>\n",
              "      <th>4</th>\n",
              "      <td>-0.842392</td>\n",
              "      <td>0.431200</td>\n",
              "      <td>-0.142895</td>\n",
              "      <td>0.778055</td>\n",
              "      <td>0.816525</td>\n",
              "      <td>-0.963819</td>\n",
              "      <td>0.962853</td>\n",
              "      <td>-0.610047</td>\n",
              "      <td>0.811593</td>\n",
              "      <td>1</td>\n",
              "    </tr>\n",
              "    <tr>\n",
              "      <th>8</th>\n",
              "      <td>-0.738937</td>\n",
              "      <td>-0.129656</td>\n",
              "      <td>0.700866</td>\n",
              "      <td>-0.080618</td>\n",
              "      <td>1.206807</td>\n",
              "      <td>-1.263271</td>\n",
              "      <td>0.556327</td>\n",
              "      <td>-0.794955</td>\n",
              "      <td>3.032511</td>\n",
              "      <td>1</td>\n",
              "    </tr>\n",
              "    <tr>\n",
              "      <th>9</th>\n",
              "      <td>-0.892641</td>\n",
              "      <td>1.713156</td>\n",
              "      <td>-0.623748</td>\n",
              "      <td>0.326122</td>\n",
              "      <td>3.076049</td>\n",
              "      <td>0.016381</td>\n",
              "      <td>0.854446</td>\n",
              "      <td>-0.589502</td>\n",
              "      <td>2.006391</td>\n",
              "      <td>1</td>\n",
              "    </tr>\n",
              "    <tr>\n",
              "      <th>11</th>\n",
              "      <td>-0.727114</td>\n",
              "      <td>0.110711</td>\n",
              "      <td>0.737156</td>\n",
              "      <td>0.201840</td>\n",
              "      <td>0.426244</td>\n",
              "      <td>-1.146627</td>\n",
              "      <td>0.949302</td>\n",
              "      <td>-0.849743</td>\n",
              "      <td>1.345738</td>\n",
              "      <td>1</td>\n",
              "    </tr>\n",
              "    <tr>\n",
              "      <th>26</th>\n",
              "      <td>-0.889685</td>\n",
              "      <td>0.014564</td>\n",
              "      <td>0.732620</td>\n",
              "      <td>-0.781115</td>\n",
              "      <td>0.847337</td>\n",
              "      <td>0.264699</td>\n",
              "      <td>1.274523</td>\n",
              "      <td>-0.781258</td>\n",
              "      <td>0.909988</td>\n",
              "      <td>1</td>\n",
              "    </tr>\n",
              "    <tr>\n",
              "      <th>34</th>\n",
              "      <td>-0.984272</td>\n",
              "      <td>0.009223</td>\n",
              "      <td>0.641893</td>\n",
              "      <td>-0.396971</td>\n",
              "      <td>0.919231</td>\n",
              "      <td>-1.064943</td>\n",
              "      <td>0.895099</td>\n",
              "      <td>-1.007257</td>\n",
              "      <td>0.994327</td>\n",
              "      <td>1</td>\n",
              "    </tr>\n",
              "    <tr>\n",
              "      <th>35</th>\n",
              "      <td>-1.040433</td>\n",
              "      <td>0.682250</td>\n",
              "      <td>-0.170113</td>\n",
              "      <td>0.698967</td>\n",
              "      <td>2.336569</td>\n",
              "      <td>-0.870700</td>\n",
              "      <td>1.382930</td>\n",
              "      <td>-1.096287</td>\n",
              "      <td>3.426092</td>\n",
              "      <td>1</td>\n",
              "    </tr>\n",
              "    <tr>\n",
              "      <th>36</th>\n",
              "      <td>-1.046345</td>\n",
              "      <td>1.526204</td>\n",
              "      <td>0.696329</td>\n",
              "      <td>1.004022</td>\n",
              "      <td>1.761417</td>\n",
              "      <td>-1.432682</td>\n",
              "      <td>1.057709</td>\n",
              "      <td>-1.034651</td>\n",
              "      <td>1.879883</td>\n",
              "      <td>1</td>\n",
              "    </tr>\n",
              "    <tr>\n",
              "      <th>42</th>\n",
              "      <td>-1.013830</td>\n",
              "      <td>2.012279</td>\n",
              "      <td>-0.142895</td>\n",
              "      <td>1.331674</td>\n",
              "      <td>1.186265</td>\n",
              "      <td>-0.914809</td>\n",
              "      <td>0.854446</td>\n",
              "      <td>-0.890833</td>\n",
              "      <td>1.148947</td>\n",
              "      <td>1</td>\n",
              "    </tr>\n",
              "    <tr>\n",
              "      <th>48</th>\n",
              "      <td>-1.031566</td>\n",
              "      <td>-0.818707</td>\n",
              "      <td>1.794125</td>\n",
              "      <td>-0.815010</td>\n",
              "      <td>1.802499</td>\n",
              "      <td>-1.089122</td>\n",
              "      <td>1.450684</td>\n",
              "      <td>-1.055196</td>\n",
              "      <td>2.877890</td>\n",
              "      <td>1</td>\n",
              "    </tr>\n",
              "    <tr>\n",
              "      <th>54</th>\n",
              "      <td>-0.969493</td>\n",
              "      <td>2.370158</td>\n",
              "      <td>0.446830</td>\n",
              "      <td>1.772309</td>\n",
              "      <td>1.145183</td>\n",
              "      <td>-0.818423</td>\n",
              "      <td>0.651183</td>\n",
              "      <td>-1.212710</td>\n",
              "      <td>0.938101</td>\n",
              "      <td>1</td>\n",
              "    </tr>\n",
              "    <tr>\n",
              "      <th>59</th>\n",
              "      <td>-1.010875</td>\n",
              "      <td>-0.129656</td>\n",
              "      <td>0.582921</td>\n",
              "      <td>-0.690728</td>\n",
              "      <td>1.894934</td>\n",
              "      <td>-0.909908</td>\n",
              "      <td>1.586193</td>\n",
              "      <td>0.006313</td>\n",
              "      <td>3.397979</td>\n",
              "      <td>1</td>\n",
              "    </tr>\n",
              "    <tr>\n",
              "      <th>67</th>\n",
              "      <td>-0.916288</td>\n",
              "      <td>0.869201</td>\n",
              "      <td>0.151968</td>\n",
              "      <td>0.563387</td>\n",
              "      <td>0.734361</td>\n",
              "      <td>-1.331721</td>\n",
              "      <td>0.461471</td>\n",
              "      <td>-1.137377</td>\n",
              "      <td>0.685085</td>\n",
              "      <td>1</td>\n",
              "    </tr>\n",
              "    <tr>\n",
              "      <th>68</th>\n",
              "      <td>-0.842392</td>\n",
              "      <td>-0.086924</td>\n",
              "      <td>0.310740</td>\n",
              "      <td>0.851494</td>\n",
              "      <td>0.528949</td>\n",
              "      <td>-1.160186</td>\n",
              "      <td>1.369379</td>\n",
              "      <td>-0.966166</td>\n",
              "      <td>0.342108</td>\n",
              "      <td>1</td>\n",
              "    </tr>\n",
              "    <tr>\n",
              "      <th>70</th>\n",
              "      <td>-0.656174</td>\n",
              "      <td>1.504838</td>\n",
              "      <td>-1.118209</td>\n",
              "      <td>-0.171005</td>\n",
              "      <td>1.894934</td>\n",
              "      <td>1.120741</td>\n",
              "      <td>0.867997</td>\n",
              "      <td>-0.418290</td>\n",
              "      <td>0.797536</td>\n",
              "      <td>1</td>\n",
              "    </tr>\n",
              "    <tr>\n",
              "      <th>71</th>\n",
              "      <td>-0.966537</td>\n",
              "      <td>1.488813</td>\n",
              "      <td>0.315276</td>\n",
              "      <td>1.246936</td>\n",
              "      <td>1.021936</td>\n",
              "      <td>-0.810255</td>\n",
              "      <td>0.475022</td>\n",
              "      <td>-1.041499</td>\n",
              "      <td>0.783480</td>\n",
              "      <td>1</td>\n",
              "    </tr>\n",
              "    <tr>\n",
              "      <th>75</th>\n",
              "      <td>-0.913332</td>\n",
              "      <td>2.642573</td>\n",
              "      <td>-0.886856</td>\n",
              "      <td>1.461604</td>\n",
              "      <td>1.021936</td>\n",
              "      <td>-0.011391</td>\n",
              "      <td>0.651183</td>\n",
              "      <td>-0.596350</td>\n",
              "      <td>0.371626</td>\n",
              "      <td>1</td>\n",
              "    </tr>\n",
              "    <tr>\n",
              "      <th>76</th>\n",
              "      <td>-0.756672</td>\n",
              "      <td>2.145816</td>\n",
              "      <td>-0.006805</td>\n",
              "      <td>1.145251</td>\n",
              "      <td>-0.066743</td>\n",
              "      <td>-0.728571</td>\n",
              "      <td>1.111913</td>\n",
              "      <td>-0.541562</td>\n",
              "      <td>0.094714</td>\n",
              "      <td>1</td>\n",
              "    </tr>\n",
              "    <tr>\n",
              "      <th>87</th>\n",
              "      <td>-0.801010</td>\n",
              "      <td>1.510179</td>\n",
              "      <td>-1.621744</td>\n",
              "      <td>-0.221847</td>\n",
              "      <td>3.507413</td>\n",
              "      <td>1.349454</td>\n",
              "      <td>0.867997</td>\n",
              "      <td>-0.082716</td>\n",
              "      <td>1.809600</td>\n",
              "      <td>1</td>\n",
              "    </tr>\n",
              "    <tr>\n",
              "      <th>89</th>\n",
              "      <td>-0.564543</td>\n",
              "      <td>1.739863</td>\n",
              "      <td>0.796129</td>\n",
              "      <td>1.868344</td>\n",
              "      <td>0.436514</td>\n",
              "      <td>-0.775948</td>\n",
              "      <td>1.098362</td>\n",
              "      <td>-0.274473</td>\n",
              "      <td>0.232467</td>\n",
              "      <td>1</td>\n",
              "    </tr>\n",
              "    <tr>\n",
              "      <th>93</th>\n",
              "      <td>-0.969493</td>\n",
              "      <td>0.142760</td>\n",
              "      <td>0.505803</td>\n",
              "      <td>-0.171005</td>\n",
              "      <td>1.093830</td>\n",
              "      <td>-0.927879</td>\n",
              "      <td>0.895099</td>\n",
              "      <td>-1.103135</td>\n",
              "      <td>0.867819</td>\n",
              "      <td>1</td>\n",
              "    </tr>\n",
              "    <tr>\n",
              "      <th>94</th>\n",
              "      <td>-1.031566</td>\n",
              "      <td>-0.402071</td>\n",
              "      <td>2.111669</td>\n",
              "      <td>-0.436515</td>\n",
              "      <td>1.648441</td>\n",
              "      <td>-1.094023</td>\n",
              "      <td>1.369379</td>\n",
              "      <td>-1.116832</td>\n",
              "      <td>2.259407</td>\n",
              "      <td>1</td>\n",
              "    </tr>\n",
              "    <tr>\n",
              "      <th>99</th>\n",
              "      <td>-0.682776</td>\n",
              "      <td>0.650201</td>\n",
              "      <td>-0.932219</td>\n",
              "      <td>-0.685079</td>\n",
              "      <td>3.517684</td>\n",
              "      <td>1.610841</td>\n",
              "      <td>0.732488</td>\n",
              "      <td>-0.041626</td>\n",
              "      <td>1.809600</td>\n",
              "      <td>1</td>\n",
              "    </tr>\n",
              "    <tr>\n",
              "      <th>102</th>\n",
              "      <td>-0.939934</td>\n",
              "      <td>2.076376</td>\n",
              "      <td>1.109137</td>\n",
              "      <td>1.845748</td>\n",
              "      <td>1.443030</td>\n",
              "      <td>-1.119835</td>\n",
              "      <td>0.786692</td>\n",
              "      <td>-1.089438</td>\n",
              "      <td>1.430076</td>\n",
              "      <td>1</td>\n",
              "    </tr>\n",
              "    <tr>\n",
              "      <th>103</th>\n",
              "      <td>-1.052256</td>\n",
              "      <td>1.435398</td>\n",
              "      <td>1.390390</td>\n",
              "      <td>1.004022</td>\n",
              "      <td>1.802499</td>\n",
              "      <td>-1.360310</td>\n",
              "      <td>1.328726</td>\n",
              "      <td>-0.993560</td>\n",
              "      <td>2.385915</td>\n",
              "      <td>1</td>\n",
              "    </tr>\n",
              "    <tr>\n",
              "      <th>106</th>\n",
              "      <td>-1.025654</td>\n",
              "      <td>0.639518</td>\n",
              "      <td>0.265376</td>\n",
              "      <td>0.060611</td>\n",
              "      <td>1.977099</td>\n",
              "      <td>-0.682828</td>\n",
              "      <td>1.410032</td>\n",
              "      <td>-1.226407</td>\n",
              "      <td>2.203181</td>\n",
              "      <td>1</td>\n",
              "    </tr>\n",
              "    <tr>\n",
              "      <th>107</th>\n",
              "      <td>-1.034521</td>\n",
              "      <td>-0.637096</td>\n",
              "      <td>1.449363</td>\n",
              "      <td>-1.035327</td>\n",
              "      <td>2.192781</td>\n",
              "      <td>-1.172929</td>\n",
              "      <td>1.653947</td>\n",
              "      <td>-1.130529</td>\n",
              "      <td>3.412035</td>\n",
              "      <td>1</td>\n",
              "    </tr>\n",
              "  </tbody>\n",
              "</table>\n",
              "</div>"
            ],
            "text/plain": [
              "     Kematian_anak    Ekspor  ...  GDPperkapita  label1_kmeans\n",
              "4        -0.842392  0.431200  ...      0.811593              1\n",
              "8        -0.738937 -0.129656  ...      3.032511              1\n",
              "9        -0.892641  1.713156  ...      2.006391              1\n",
              "11       -0.727114  0.110711  ...      1.345738              1\n",
              "26       -0.889685  0.014564  ...      0.909988              1\n",
              "34       -0.984272  0.009223  ...      0.994327              1\n",
              "35       -1.040433  0.682250  ...      3.426092              1\n",
              "36       -1.046345  1.526204  ...      1.879883              1\n",
              "42       -1.013830  2.012279  ...      1.148947              1\n",
              "48       -1.031566 -0.818707  ...      2.877890              1\n",
              "54       -0.969493  2.370158  ...      0.938101              1\n",
              "59       -1.010875 -0.129656  ...      3.397979              1\n",
              "67       -0.916288  0.869201  ...      0.685085              1\n",
              "68       -0.842392 -0.086924  ...      0.342108              1\n",
              "70       -0.656174  1.504838  ...      0.797536              1\n",
              "71       -0.966537  1.488813  ...      0.783480              1\n",
              "75       -0.913332  2.642573  ...      0.371626              1\n",
              "76       -0.756672  2.145816  ...      0.094714              1\n",
              "87       -0.801010  1.510179  ...      1.809600              1\n",
              "89       -0.564543  1.739863  ...      0.232467              1\n",
              "93       -0.969493  0.142760  ...      0.867819              1\n",
              "94       -1.031566 -0.402071  ...      2.259407              1\n",
              "99       -0.682776  0.650201  ...      1.809600              1\n",
              "102      -0.939934  2.076376  ...      1.430076              1\n",
              "103      -1.052256  1.435398  ...      2.385915              1\n",
              "106      -1.025654  0.639518  ...      2.203181              1\n",
              "107      -1.034521 -0.637096  ...      3.412035              1\n",
              "\n",
              "[27 rows x 10 columns]"
            ]
          },
          "metadata": {
            "tags": []
          },
          "execution_count": 20
        }
      ]
    },
    {
      "cell_type": "code",
      "metadata": {
        "colab": {
          "base_uri": "https://localhost:8080/",
          "height": 483
        },
        "id": "aaSZNehhBOUg",
        "outputId": "92a5019c-5d9a-4615-dd62-b9e39b8d4fac"
      },
      "source": [
        "plt.figure(figsize=(12,8))\n",
        "\n",
        "plt.scatter(df_new['Pendapatan'][df_new.label1_kmeans==0], df_new['GDPperkapita'][df_new.label1_kmeans==0], c='blue', s=100, edgecolor='green')\n",
        "plt.scatter(df_new['Pendapatan'][df_new.label1_kmeans==1], df_new['GDPperkapita'][df_new.label1_kmeans==1], c='red', s=100, edgecolor='green')\n",
        "plt.scatter(df_new['Pendapatan'][df_new.label1_kmeans==2], df_new['GDPperkapita'][df_new.label1_kmeans==2], c='green', s=100, edgecolor='green')\n",
        "\n",
        "plt.scatter(kmeans1.cluster_centers_[:, 0], kmeans1.cluster_centers_[:, 1], c='k', s=300)\n",
        "\n",
        "plt.show()"
      ],
      "execution_count": 16,
      "outputs": [
        {
          "output_type": "display_data",
          "data": {
            "image/png": "[encoded data removed]",
            "text/plain": [
              "<Figure size 864x576 with 1 Axes>"
            ]
          },
          "metadata": {
            "tags": [],
            "needs_background": "light"
          }
        }
      ]
    },
    {
      "cell_type": "code",
      "metadata": {
        "colab": {
          "base_uri": "https://localhost:8080/",
          "height": 295
        },
        "id": "tNff5uL6NctF",
        "outputId": "342467ed-33a8-4f2f-ef77-cc4d1bce68f8"
      },
      "source": [
        "wcss = []\n",
        "for i in range(1,11):\n",
        "  kmeans = KMeans(n_clusters=i, init='k-means++', random_state=42)\n",
        "  kmeans.fit(df_std)\n",
        "  wcss.append(kmeans.inertia_)\n",
        "\n",
        "plt.plot(range(1,11),wcss)\n",
        "plt.title('The Elbow Method')\n",
        "plt.xlabel('Number of clusters')\n",
        "plt.ylabel('WCSS')\n",
        "plt.show()"
      ],
      "execution_count": 17,
      "outputs": [
        {
          "output_type": "display_data",
          "data": {
            "image/png": "[encoded data removed]",
            "text/plain": [
              "<Figure size 432x288 with 1 Axes>"
            ]
          },
          "metadata": {
            "tags": [],
            "needs_background": "light"
          }
        }
      ]
    },
    {
      "cell_type": "code",
      "metadata": {
        "colab": {
          "base_uri": "https://localhost:8080/"
        },
        "id": "K2IT40YqM2Gf",
        "outputId": "68d8d5a6-586f-4039-81a0-c96e1c554387"
      },
      "source": [
        "from sklearn.metrics import silhouette_score\n",
        "\n",
        "print(silhouette_score(df_std, labels=labels1))"
      ],
      "execution_count": 18,
      "outputs": [
        {
          "output_type": "stream",
          "text": [
            "0.23572302378807583\n"
          ],
          "name": "stdout"
        }
      ]
    },
    {
      "cell_type": "code",
      "metadata": {
        "colab": {
          "base_uri": "https://localhost:8080/",
          "height": 483
        },
        "id": "zfHrFt1HJLXt",
        "outputId": "022a9140-653d-4ea5-f1b2-ce3e4934ae8f"
      },
      "source": [
        "plt.figure(figsize=(12,8))\n",
        "\n",
        "plt.scatter(df_new['Kematian_anak'][df_new.label1_kmeans==0], df_new['Jumlah_fertiliti'][df_new.label1_kmeans==0], c='blue', s=100, edgecolor='green')\n",
        "plt.scatter(df_new['Kematian_anak'][df_new.label1_kmeans==1], df_new['Jumlah_fertiliti'][df_new.label1_kmeans==1], c='red', s=100, edgecolor='green')\n",
        "plt.scatter(df_new['Kematian_anak'][df_new.label1_kmeans==2], df_new['Jumlah_fertiliti'][df_new.label1_kmeans==2], c='green', s=100, edgecolor='green')\n",
        "\n",
        "plt.scatter(kmeans1.cluster_centers_[:, 0], kmeans1.cluster_centers_[:, 1], c='k', s=300)\n",
        "\n",
        "plt.show()"
      ],
      "execution_count": 19,
      "outputs": [
        {
          "output_type": "display_data",
          "data": {
            "image/png": "[encoded data removed]",
            "text/plain": [
              "<Figure size 864x576 with 1 Axes>"
            ]
          },
          "metadata": {
            "tags": [],
            "needs_background": "light"
          }
        }
      ]
    }
  ]
}